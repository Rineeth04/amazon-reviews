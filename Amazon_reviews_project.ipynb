{
  "cells": [
    {
      "cell_type": "markdown",
      "metadata": {
        "id": "view-in-github",
        "colab_type": "text"
      },
      "source": [
        "<a href=\"https://colab.research.google.com/github/Rineeth04/amazon-reviews/blob/main/Amazon_reviews_project.ipynb\" target=\"_parent\"><img src=\"https://colab.research.google.com/assets/colab-badge.svg\" alt=\"Open In Colab\"/></a>"
      ]
    },
    {
      "cell_type": "markdown",
      "id": "94fe51ea",
      "metadata": {
        "papermill": {
          "duration": 0.013804,
          "end_time": "2022-06-15T01:48:25.730467",
          "exception": false,
          "start_time": "2022-06-15T01:48:25.716663",
          "status": "completed"
        },
        "tags": [],
        "id": "94fe51ea"
      },
      "source": [
        "   **<center><h1>Amazon Reviews sentiment analysis by Rineeth rao venepally</h1></center>**\n",
        "\n"
      ]
    },
    {
      "cell_type": "code",
      "execution_count": null,
      "id": "33408fb9",
      "metadata": {
        "_cell_guid": "b1076dfc-b9ad-4769-8c92-a6c4dae69d19",
        "_uuid": "8f2839f25d086af736a60e9eeb907d3b93b6e0e5",
        "execution": {
          "iopub.execute_input": "2022-06-15T01:48:25.778048Z",
          "iopub.status.busy": "2022-06-15T01:48:25.777145Z",
          "iopub.status.idle": "2022-06-15T01:48:38.558632Z",
          "shell.execute_reply": "2022-06-15T01:48:38.557091Z"
        },
        "papermill": {
          "duration": 12.797093,
          "end_time": "2022-06-15T01:48:38.561329",
          "exception": false,
          "start_time": "2022-06-15T01:48:25.764236",
          "status": "completed"
        },
        "tags": [],
        "id": "33408fb9"
      },
      "outputs": [],
      "source": [
        "# imports\n",
        "import warnings\n",
        "import pandas as pd\n",
        "import numpy as np\n",
        "import matplotlib.pyplot as plt\n",
        "import seaborn as sns\n",
        "\n",
        "import re\n",
        "import json\n",
        "import nltk\n",
        "import spacy\n",
        "import string\n",
        "import unicodedata\n",
        "from bs4 import BeautifulSoup\n",
        "from textblob import TextBlob\n",
        "from nltk.stem import WordNetLemmatizer\n",
        "\n",
        "from IPython import display\n",
        "display.set_matplotlib_formats('svg')\n",
        "warnings.filterwarnings('ignore')"
      ]
    },
    {
      "cell_type": "code",
      "execution_count": null,
      "id": "8896e316",
      "metadata": {
        "execution": {
          "iopub.execute_input": "2022-06-15T01:48:38.587178Z",
          "iopub.status.busy": "2022-06-15T01:48:38.586218Z",
          "iopub.status.idle": "2022-06-15T01:48:38.830907Z",
          "shell.execute_reply": "2022-06-15T01:48:38.829740Z"
        },
        "papermill": {
          "duration": 0.260764,
          "end_time": "2022-06-15T01:48:38.833908",
          "exception": false,
          "start_time": "2022-06-15T01:48:38.573144",
          "status": "completed"
        },
        "tags": [],
        "colab": {
          "base_uri": "https://localhost:8080/",
          "height": 206
        },
        "id": "8896e316",
        "outputId": "ab4220fd-016c-4d1d-e2cc-838404006e73"
      },
      "outputs": [
        {
          "output_type": "execute_result",
          "data": {
            "text/plain": [
              "                                             reviews  sentiment\n",
              "0                                      Love my Echo!          1\n",
              "1                                          Loved it!          1\n",
              "2  Sometimes while playing a game, you can answer...          1\n",
              "3  I have had a lot of fun with this thing. My 4 ...          1\n",
              "4                                              Music          1"
            ],
            "text/html": [
              "\n",
              "  <div id=\"df-54e6b9fd-fcb1-4e93-bcd8-79c757b3001a\">\n",
              "    <div class=\"colab-df-container\">\n",
              "      <div>\n",
              "<style scoped>\n",
              "    .dataframe tbody tr th:only-of-type {\n",
              "        vertical-align: middle;\n",
              "    }\n",
              "\n",
              "    .dataframe tbody tr th {\n",
              "        vertical-align: top;\n",
              "    }\n",
              "\n",
              "    .dataframe thead th {\n",
              "        text-align: right;\n",
              "    }\n",
              "</style>\n",
              "<table border=\"1\" class=\"dataframe\">\n",
              "  <thead>\n",
              "    <tr style=\"text-align: right;\">\n",
              "      <th></th>\n",
              "      <th>reviews</th>\n",
              "      <th>sentiment</th>\n",
              "    </tr>\n",
              "  </thead>\n",
              "  <tbody>\n",
              "    <tr>\n",
              "      <th>0</th>\n",
              "      <td>Love my Echo!</td>\n",
              "      <td>1</td>\n",
              "    </tr>\n",
              "    <tr>\n",
              "      <th>1</th>\n",
              "      <td>Loved it!</td>\n",
              "      <td>1</td>\n",
              "    </tr>\n",
              "    <tr>\n",
              "      <th>2</th>\n",
              "      <td>Sometimes while playing a game, you can answer...</td>\n",
              "      <td>1</td>\n",
              "    </tr>\n",
              "    <tr>\n",
              "      <th>3</th>\n",
              "      <td>I have had a lot of fun with this thing. My 4 ...</td>\n",
              "      <td>1</td>\n",
              "    </tr>\n",
              "    <tr>\n",
              "      <th>4</th>\n",
              "      <td>Music</td>\n",
              "      <td>1</td>\n",
              "    </tr>\n",
              "  </tbody>\n",
              "</table>\n",
              "</div>\n",
              "      <button class=\"colab-df-convert\" onclick=\"convertToInteractive('df-54e6b9fd-fcb1-4e93-bcd8-79c757b3001a')\"\n",
              "              title=\"Convert this dataframe to an interactive table.\"\n",
              "              style=\"display:none;\">\n",
              "        \n",
              "  <svg xmlns=\"http://www.w3.org/2000/svg\" height=\"24px\"viewBox=\"0 0 24 24\"\n",
              "       width=\"24px\">\n",
              "    <path d=\"M0 0h24v24H0V0z\" fill=\"none\"/>\n",
              "    <path d=\"M18.56 5.44l.94 2.06.94-2.06 2.06-.94-2.06-.94-.94-2.06-.94 2.06-2.06.94zm-11 1L8.5 8.5l.94-2.06 2.06-.94-2.06-.94L8.5 2.5l-.94 2.06-2.06.94zm10 10l.94 2.06.94-2.06 2.06-.94-2.06-.94-.94-2.06-.94 2.06-2.06.94z\"/><path d=\"M17.41 7.96l-1.37-1.37c-.4-.4-.92-.59-1.43-.59-.52 0-1.04.2-1.43.59L10.3 9.45l-7.72 7.72c-.78.78-.78 2.05 0 2.83L4 21.41c.39.39.9.59 1.41.59.51 0 1.02-.2 1.41-.59l7.78-7.78 2.81-2.81c.8-.78.8-2.07 0-2.86zM5.41 20L4 18.59l7.72-7.72 1.47 1.35L5.41 20z\"/>\n",
              "  </svg>\n",
              "      </button>\n",
              "      \n",
              "  <style>\n",
              "    .colab-df-container {\n",
              "      display:flex;\n",
              "      flex-wrap:wrap;\n",
              "      gap: 12px;\n",
              "    }\n",
              "\n",
              "    .colab-df-convert {\n",
              "      background-color: #E8F0FE;\n",
              "      border: none;\n",
              "      border-radius: 50%;\n",
              "      cursor: pointer;\n",
              "      display: none;\n",
              "      fill: #1967D2;\n",
              "      height: 32px;\n",
              "      padding: 0 0 0 0;\n",
              "      width: 32px;\n",
              "    }\n",
              "\n",
              "    .colab-df-convert:hover {\n",
              "      background-color: #E2EBFA;\n",
              "      box-shadow: 0px 1px 2px rgba(60, 64, 67, 0.3), 0px 1px 3px 1px rgba(60, 64, 67, 0.15);\n",
              "      fill: #174EA6;\n",
              "    }\n",
              "\n",
              "    [theme=dark] .colab-df-convert {\n",
              "      background-color: #3B4455;\n",
              "      fill: #D2E3FC;\n",
              "    }\n",
              "\n",
              "    [theme=dark] .colab-df-convert:hover {\n",
              "      background-color: #434B5C;\n",
              "      box-shadow: 0px 1px 3px 1px rgba(0, 0, 0, 0.15);\n",
              "      filter: drop-shadow(0px 1px 2px rgba(0, 0, 0, 0.3));\n",
              "      fill: #FFFFFF;\n",
              "    }\n",
              "  </style>\n",
              "\n",
              "      <script>\n",
              "        const buttonEl =\n",
              "          document.querySelector('#df-54e6b9fd-fcb1-4e93-bcd8-79c757b3001a button.colab-df-convert');\n",
              "        buttonEl.style.display =\n",
              "          google.colab.kernel.accessAllowed ? 'block' : 'none';\n",
              "\n",
              "        async function convertToInteractive(key) {\n",
              "          const element = document.querySelector('#df-54e6b9fd-fcb1-4e93-bcd8-79c757b3001a');\n",
              "          const dataTable =\n",
              "            await google.colab.kernel.invokeFunction('convertToInteractive',\n",
              "                                                     [key], {});\n",
              "          if (!dataTable) return;\n",
              "\n",
              "          const docLinkHtml = 'Like what you see? Visit the ' +\n",
              "            '<a target=\"_blank\" href=https://colab.research.google.com/notebooks/data_table.ipynb>data table notebook</a>'\n",
              "            + ' to learn more about interactive tables.';\n",
              "          element.innerHTML = '';\n",
              "          dataTable['output_type'] = 'display_data';\n",
              "          await google.colab.output.renderOutput(dataTable, element);\n",
              "          const docLink = document.createElement('div');\n",
              "          docLink.innerHTML = docLinkHtml;\n",
              "          element.appendChild(docLink);\n",
              "        }\n",
              "      </script>\n",
              "    </div>\n",
              "  </div>\n",
              "  "
            ]
          },
          "metadata": {},
          "execution_count": 8
        }
      ],
      "source": [
        "# load the data\n",
        "data = pd.read_csv(\"/content/drive/MyDrive/Colab Notebooks/amazon_alexa.csv\")\n",
        "data.head()"
      ]
    },
    {
      "cell_type": "code",
      "source": [
        "from google.colab import drive\n",
        "drive.mount('/content/drive')"
      ],
      "metadata": {
        "colab": {
          "base_uri": "https://localhost:8080/"
        },
        "id": "yKr5XhrUwRGp",
        "outputId": "eda3e907-aa60-44e5-ed36-c128181f1c18"
      },
      "id": "yKr5XhrUwRGp",
      "execution_count": null,
      "outputs": [
        {
          "output_type": "stream",
          "name": "stdout",
          "text": [
            "Drive already mounted at /content/drive; to attempt to forcibly remount, call drive.mount(\"/content/drive\", force_remount=True).\n"
          ]
        }
      ]
    },
    {
      "cell_type": "markdown",
      "id": "0e40d3e4",
      "metadata": {
        "papermill": {
          "duration": 0.01346,
          "end_time": "2022-06-15T01:48:38.859991",
          "exception": false,
          "start_time": "2022-06-15T01:48:38.846531",
          "status": "completed"
        },
        "tags": [],
        "id": "0e40d3e4"
      },
      "source": [
        "Here, we are going to use only 2 columns Independent(reviewText) and Dependent(rating). Let's ignore all other columns.  "
      ]
    },
    {
      "cell_type": "code",
      "execution_count": null,
      "id": "bc199b52",
      "metadata": {
        "execution": {
          "iopub.execute_input": "2022-06-15T01:48:38.886763Z",
          "iopub.status.busy": "2022-06-15T01:48:38.885974Z",
          "iopub.status.idle": "2022-06-15T01:48:38.903405Z",
          "shell.execute_reply": "2022-06-15T01:48:38.902504Z"
        },
        "papermill": {
          "duration": 0.033222,
          "end_time": "2022-06-15T01:48:38.905734",
          "exception": false,
          "start_time": "2022-06-15T01:48:38.872512",
          "status": "completed"
        },
        "tags": [],
        "id": "bc199b52",
        "outputId": "1b01228a-e43d-4029-a5a1-484a5b324124",
        "colab": {
          "base_uri": "https://localhost:8080/",
          "height": 206
        }
      },
      "outputs": [
        {
          "output_type": "execute_result",
          "data": {
            "text/plain": [
              "                                             reviews  sentiment\n",
              "0                                      Love my Echo!          1\n",
              "1                                          Loved it!          1\n",
              "2  Sometimes while playing a game, you can answer...          1\n",
              "3  I have had a lot of fun with this thing. My 4 ...          1\n",
              "4                                              Music          1"
            ],
            "text/html": [
              "\n",
              "  <div id=\"df-8ee77f45-e00d-432a-8418-480f0f59cdd4\">\n",
              "    <div class=\"colab-df-container\">\n",
              "      <div>\n",
              "<style scoped>\n",
              "    .dataframe tbody tr th:only-of-type {\n",
              "        vertical-align: middle;\n",
              "    }\n",
              "\n",
              "    .dataframe tbody tr th {\n",
              "        vertical-align: top;\n",
              "    }\n",
              "\n",
              "    .dataframe thead th {\n",
              "        text-align: right;\n",
              "    }\n",
              "</style>\n",
              "<table border=\"1\" class=\"dataframe\">\n",
              "  <thead>\n",
              "    <tr style=\"text-align: right;\">\n",
              "      <th></th>\n",
              "      <th>reviews</th>\n",
              "      <th>sentiment</th>\n",
              "    </tr>\n",
              "  </thead>\n",
              "  <tbody>\n",
              "    <tr>\n",
              "      <th>0</th>\n",
              "      <td>Love my Echo!</td>\n",
              "      <td>1</td>\n",
              "    </tr>\n",
              "    <tr>\n",
              "      <th>1</th>\n",
              "      <td>Loved it!</td>\n",
              "      <td>1</td>\n",
              "    </tr>\n",
              "    <tr>\n",
              "      <th>2</th>\n",
              "      <td>Sometimes while playing a game, you can answer...</td>\n",
              "      <td>1</td>\n",
              "    </tr>\n",
              "    <tr>\n",
              "      <th>3</th>\n",
              "      <td>I have had a lot of fun with this thing. My 4 ...</td>\n",
              "      <td>1</td>\n",
              "    </tr>\n",
              "    <tr>\n",
              "      <th>4</th>\n",
              "      <td>Music</td>\n",
              "      <td>1</td>\n",
              "    </tr>\n",
              "  </tbody>\n",
              "</table>\n",
              "</div>\n",
              "      <button class=\"colab-df-convert\" onclick=\"convertToInteractive('df-8ee77f45-e00d-432a-8418-480f0f59cdd4')\"\n",
              "              title=\"Convert this dataframe to an interactive table.\"\n",
              "              style=\"display:none;\">\n",
              "        \n",
              "  <svg xmlns=\"http://www.w3.org/2000/svg\" height=\"24px\"viewBox=\"0 0 24 24\"\n",
              "       width=\"24px\">\n",
              "    <path d=\"M0 0h24v24H0V0z\" fill=\"none\"/>\n",
              "    <path d=\"M18.56 5.44l.94 2.06.94-2.06 2.06-.94-2.06-.94-.94-2.06-.94 2.06-2.06.94zm-11 1L8.5 8.5l.94-2.06 2.06-.94-2.06-.94L8.5 2.5l-.94 2.06-2.06.94zm10 10l.94 2.06.94-2.06 2.06-.94-2.06-.94-.94-2.06-.94 2.06-2.06.94z\"/><path d=\"M17.41 7.96l-1.37-1.37c-.4-.4-.92-.59-1.43-.59-.52 0-1.04.2-1.43.59L10.3 9.45l-7.72 7.72c-.78.78-.78 2.05 0 2.83L4 21.41c.39.39.9.59 1.41.59.51 0 1.02-.2 1.41-.59l7.78-7.78 2.81-2.81c.8-.78.8-2.07 0-2.86zM5.41 20L4 18.59l7.72-7.72 1.47 1.35L5.41 20z\"/>\n",
              "  </svg>\n",
              "      </button>\n",
              "      \n",
              "  <style>\n",
              "    .colab-df-container {\n",
              "      display:flex;\n",
              "      flex-wrap:wrap;\n",
              "      gap: 12px;\n",
              "    }\n",
              "\n",
              "    .colab-df-convert {\n",
              "      background-color: #E8F0FE;\n",
              "      border: none;\n",
              "      border-radius: 50%;\n",
              "      cursor: pointer;\n",
              "      display: none;\n",
              "      fill: #1967D2;\n",
              "      height: 32px;\n",
              "      padding: 0 0 0 0;\n",
              "      width: 32px;\n",
              "    }\n",
              "\n",
              "    .colab-df-convert:hover {\n",
              "      background-color: #E2EBFA;\n",
              "      box-shadow: 0px 1px 2px rgba(60, 64, 67, 0.3), 0px 1px 3px 1px rgba(60, 64, 67, 0.15);\n",
              "      fill: #174EA6;\n",
              "    }\n",
              "\n",
              "    [theme=dark] .colab-df-convert {\n",
              "      background-color: #3B4455;\n",
              "      fill: #D2E3FC;\n",
              "    }\n",
              "\n",
              "    [theme=dark] .colab-df-convert:hover {\n",
              "      background-color: #434B5C;\n",
              "      box-shadow: 0px 1px 3px 1px rgba(0, 0, 0, 0.15);\n",
              "      filter: drop-shadow(0px 1px 2px rgba(0, 0, 0, 0.3));\n",
              "      fill: #FFFFFF;\n",
              "    }\n",
              "  </style>\n",
              "\n",
              "      <script>\n",
              "        const buttonEl =\n",
              "          document.querySelector('#df-8ee77f45-e00d-432a-8418-480f0f59cdd4 button.colab-df-convert');\n",
              "        buttonEl.style.display =\n",
              "          google.colab.kernel.accessAllowed ? 'block' : 'none';\n",
              "\n",
              "        async function convertToInteractive(key) {\n",
              "          const element = document.querySelector('#df-8ee77f45-e00d-432a-8418-480f0f59cdd4');\n",
              "          const dataTable =\n",
              "            await google.colab.kernel.invokeFunction('convertToInteractive',\n",
              "                                                     [key], {});\n",
              "          if (!dataTable) return;\n",
              "\n",
              "          const docLinkHtml = 'Like what you see? Visit the ' +\n",
              "            '<a target=\"_blank\" href=https://colab.research.google.com/notebooks/data_table.ipynb>data table notebook</a>'\n",
              "            + ' to learn more about interactive tables.';\n",
              "          element.innerHTML = '';\n",
              "          dataTable['output_type'] = 'display_data';\n",
              "          await google.colab.output.renderOutput(dataTable, element);\n",
              "          const docLink = document.createElement('div');\n",
              "          docLink.innerHTML = docLinkHtml;\n",
              "          element.appendChild(docLink);\n",
              "        }\n",
              "      </script>\n",
              "    </div>\n",
              "  </div>\n",
              "  "
            ]
          },
          "metadata": {},
          "execution_count": 10
        }
      ],
      "source": [
        "# selection columns!\n",
        "data = data[['reviews', 'sentiment']]\n",
        "data.head()"
      ]
    },
    {
      "cell_type": "code",
      "execution_count": null,
      "id": "bc2acbcd",
      "metadata": {
        "execution": {
          "iopub.execute_input": "2022-06-15T01:48:38.932455Z",
          "iopub.status.busy": "2022-06-15T01:48:38.932014Z",
          "iopub.status.idle": "2022-06-15T01:48:38.937514Z",
          "shell.execute_reply": "2022-06-15T01:48:38.936757Z"
        },
        "papermill": {
          "duration": 0.0219,
          "end_time": "2022-06-15T01:48:38.939829",
          "exception": false,
          "start_time": "2022-06-15T01:48:38.917929",
          "status": "completed"
        },
        "tags": [],
        "id": "bc2acbcd",
        "outputId": "69fed1c3-62b6-4305-fba7-8b591155310f",
        "colab": {
          "base_uri": "https://localhost:8080/"
        }
      },
      "outputs": [
        {
          "output_type": "execute_result",
          "data": {
            "text/plain": [
              "(3150, 2)"
            ]
          },
          "metadata": {},
          "execution_count": 11
        }
      ],
      "source": [
        "# check the shape\n",
        "data.shape"
      ]
    },
    {
      "cell_type": "code",
      "execution_count": null,
      "id": "7690f547",
      "metadata": {
        "execution": {
          "iopub.execute_input": "2022-06-15T01:48:38.970335Z",
          "iopub.status.busy": "2022-06-15T01:48:38.969686Z",
          "iopub.status.idle": "2022-06-15T01:48:38.980658Z",
          "shell.execute_reply": "2022-06-15T01:48:38.979697Z"
        },
        "papermill": {
          "duration": 0.028647,
          "end_time": "2022-06-15T01:48:38.982794",
          "exception": false,
          "start_time": "2022-06-15T01:48:38.954147",
          "status": "completed"
        },
        "tags": [],
        "id": "7690f547",
        "outputId": "2b59a66c-2852-4646-dc2b-b7bb684720ed",
        "colab": {
          "base_uri": "https://localhost:8080/"
        }
      },
      "outputs": [
        {
          "output_type": "execute_result",
          "data": {
            "text/plain": [
              "reviews      0\n",
              "sentiment    0\n",
              "dtype: int64"
            ]
          },
          "metadata": {},
          "execution_count": 12
        }
      ],
      "source": [
        "# check whehter it's having null values or not\n",
        "data.isnull().sum()"
      ]
    },
    {
      "cell_type": "code",
      "execution_count": null,
      "id": "a7c4a76e",
      "metadata": {
        "execution": {
          "iopub.execute_input": "2022-06-15T01:48:39.010140Z",
          "iopub.status.busy": "2022-06-15T01:48:39.009386Z",
          "iopub.status.idle": "2022-06-15T01:48:39.022535Z",
          "shell.execute_reply": "2022-06-15T01:48:39.021711Z"
        },
        "papermill": {
          "duration": 0.029726,
          "end_time": "2022-06-15T01:48:39.024855",
          "exception": false,
          "start_time": "2022-06-15T01:48:38.995129",
          "status": "completed"
        },
        "tags": [],
        "id": "a7c4a76e",
        "outputId": "df7cbd8f-9f56-4dcd-989a-a9a603e9bfc9",
        "colab": {
          "base_uri": "https://localhost:8080/"
        }
      },
      "outputs": [
        {
          "output_type": "execute_result",
          "data": {
            "text/plain": [
              "1    2893\n",
              "0     257\n",
              "Name: sentiment, dtype: int64"
            ]
          },
          "metadata": {},
          "execution_count": 13
        }
      ],
      "source": [
        "# check unique categories\n",
        "data['sentiment'].value_counts()"
      ]
    },
    {
      "cell_type": "code",
      "execution_count": null,
      "id": "54a0bde3",
      "metadata": {
        "execution": {
          "iopub.execute_input": "2022-06-15T01:48:39.052479Z",
          "iopub.status.busy": "2022-06-15T01:48:39.051749Z",
          "iopub.status.idle": "2022-06-15T01:48:39.065653Z",
          "shell.execute_reply": "2022-06-15T01:48:39.064571Z"
        },
        "papermill": {
          "duration": 0.030154,
          "end_time": "2022-06-15T01:48:39.068182",
          "exception": false,
          "start_time": "2022-06-15T01:48:39.038028",
          "status": "completed"
        },
        "tags": [],
        "id": "54a0bde3"
      },
      "outputs": [],
      "source": [
        "# if rating is above 3 we will consider it as 1 else 0.\n",
        "data[\"sentiment\"] = data[\"sentiment\"].apply(lambda x: 1 if x < 3  else 0) # positive as 0 and negative as 1"
      ]
    },
    {
      "cell_type": "markdown",
      "id": "7da9b35c",
      "metadata": {
        "papermill": {
          "duration": 0.012217,
          "end_time": "2022-06-15T01:48:39.093301",
          "exception": false,
          "start_time": "2022-06-15T01:48:39.081084",
          "status": "completed"
        },
        "tags": [],
        "id": "7da9b35c"
      },
      "source": [
        "### Visualize words using WordCloud"
      ]
    },
    {
      "cell_type": "code",
      "execution_count": null,
      "id": "2c0a363b",
      "metadata": {
        "execution": {
          "iopub.execute_input": "2022-06-15T01:48:39.120568Z",
          "iopub.status.busy": "2022-06-15T01:48:39.119828Z",
          "iopub.status.idle": "2022-06-15T01:48:39.128936Z",
          "shell.execute_reply": "2022-06-15T01:48:39.128084Z"
        },
        "papermill": {
          "duration": 0.0253,
          "end_time": "2022-06-15T01:48:39.131086",
          "exception": false,
          "start_time": "2022-06-15T01:48:39.105786",
          "status": "completed"
        },
        "tags": [],
        "id": "2c0a363b",
        "outputId": "2ed06f73-34b0-480a-e2aa-10b2e16f9f54",
        "colab": {
          "base_uri": "https://localhost:8080/"
        }
      },
      "outputs": [
        {
          "output_type": "execute_result",
          "data": {
            "text/plain": [
              "1    3150\n",
              "Name: sentiment, dtype: int64"
            ]
          },
          "metadata": {},
          "execution_count": 15
        }
      ],
      "source": [
        "data['sentiment'].value_counts()"
      ]
    },
    {
      "cell_type": "code",
      "execution_count": null,
      "id": "f86d4b5b",
      "metadata": {
        "execution": {
          "iopub.execute_input": "2022-06-15T01:48:39.158096Z",
          "iopub.status.busy": "2022-06-15T01:48:39.157353Z",
          "iopub.status.idle": "2022-06-15T01:48:39.195608Z",
          "shell.execute_reply": "2022-06-15T01:48:39.194577Z"
        },
        "papermill": {
          "duration": 0.054587,
          "end_time": "2022-06-15T01:48:39.198089",
          "exception": false,
          "start_time": "2022-06-15T01:48:39.143502",
          "status": "completed"
        },
        "tags": [],
        "id": "f86d4b5b"
      },
      "outputs": [],
      "source": [
        "from wordcloud import WordCloud, ImageColorGenerator\n",
        "from PIL import Image\n",
        "\n",
        "# get the text based on ratings!\n",
        "rating_zero = data['reviews'][data['sentiment'] == 0]\n",
        "rating_one = data['reviews'][data['sentiment'] == 1]\n",
        "\n",
        "\n",
        "# word tokenize the data\n",
        "def list_tokenizer(rating):\n",
        "    ratings = \" \".join(rating)\n",
        "    ratings = nltk.word_tokenize(ratings)\n",
        "    return str(ratings)\n",
        "\n",
        "# visualizer\n",
        "def word_cloud(rating, number):\n",
        "    wc = WordCloud(background_color = 'black', max_font_size = 50, max_words = 100)\n",
        "    wc.generate(rating)\n",
        "    plt.figure(figsize=(10,8))\n",
        "    plt.imshow(wc, interpolation = 'bilinear')\n",
        "    plt.title(f'WordCloud for {number}')\n",
        "    plt.axis('off');"
      ]
    },
    {
      "cell_type": "code",
      "source": [
        "pip install nltk"
      ],
      "metadata": {
        "colab": {
          "base_uri": "https://localhost:8080/"
        },
        "id": "uF-7jUCJyZLF",
        "outputId": "2e4f51bd-779e-4351-fbd9-cffe7c56d760"
      },
      "id": "uF-7jUCJyZLF",
      "execution_count": null,
      "outputs": [
        {
          "output_type": "stream",
          "name": "stdout",
          "text": [
            "Looking in indexes: https://pypi.org/simple, https://us-python.pkg.dev/colab-wheels/public/simple/\n",
            "Requirement already satisfied: nltk in /usr/local/lib/python3.8/dist-packages (3.7)\n",
            "Requirement already satisfied: regex>=2021.8.3 in /usr/local/lib/python3.8/dist-packages (from nltk) (2022.6.2)\n",
            "Requirement already satisfied: tqdm in /usr/local/lib/python3.8/dist-packages (from nltk) (4.64.1)\n",
            "Requirement already satisfied: click in /usr/local/lib/python3.8/dist-packages (from nltk) (7.1.2)\n",
            "Requirement already satisfied: joblib in /usr/local/lib/python3.8/dist-packages (from nltk) (1.2.0)\n"
          ]
        }
      ]
    },
    {
      "cell_type": "code",
      "source": [
        "import nltk\n",
        "nltk.download('punkt')"
      ],
      "metadata": {
        "colab": {
          "base_uri": "https://localhost:8080/"
        },
        "id": "YRMjl8G3ymUl",
        "outputId": "e0fe4543-3e88-4a05-9235-5ede040f9b84"
      },
      "id": "YRMjl8G3ymUl",
      "execution_count": null,
      "outputs": [
        {
          "output_type": "stream",
          "name": "stderr",
          "text": [
            "[nltk_data] Downloading package punkt to /root/nltk_data...\n",
            "[nltk_data]   Unzipping tokenizers/punkt.zip.\n"
          ]
        },
        {
          "output_type": "execute_result",
          "data": {
            "text/plain": [
              "True"
            ]
          },
          "metadata": {},
          "execution_count": 18
        }
      ]
    },
    {
      "cell_type": "markdown",
      "id": "082ed127",
      "metadata": {
        "papermill": {
          "duration": 0.024412,
          "end_time": "2022-06-15T01:49:18.123272",
          "exception": false,
          "start_time": "2022-06-15T01:49:18.098860",
          "status": "completed"
        },
        "tags": [],
        "id": "082ed127"
      },
      "source": [
        "Now, we have suitable columns for model building, but before that we need to pre-process the text. Let's do that!\n",
        "\n",
        "### Pre-processing!\n",
        "If you want a quick recap on pre-processing techniques you can check the notebook [**here**](https://github.com/RAravindDS/Learny/blob/main/NLP/TextCleaning/Cleaning_text_data.ipynb)"
      ]
    },
    {
      "cell_type": "code",
      "execution_count": null,
      "id": "a8f3c434",
      "metadata": {
        "execution": {
          "iopub.execute_input": "2022-06-15T01:49:18.174505Z",
          "iopub.status.busy": "2022-06-15T01:49:18.173749Z",
          "iopub.status.idle": "2022-06-15T01:49:18.199503Z",
          "shell.execute_reply": "2022-06-15T01:49:18.198701Z"
        },
        "papermill": {
          "duration": 0.053742,
          "end_time": "2022-06-15T01:49:18.201384",
          "exception": false,
          "start_time": "2022-06-15T01:49:18.147642",
          "status": "completed"
        },
        "tags": [],
        "id": "a8f3c434",
        "outputId": "aa9f595a-d420-495d-85ed-14c4ad190d08",
        "colab": {
          "base_uri": "https://localhost:8080/",
          "height": 206
        }
      },
      "outputs": [
        {
          "output_type": "execute_result",
          "data": {
            "text/plain": [
              "                                             reviews  sentiment\n",
              "0                                      love my echo!          1\n",
              "1                                          loved it!          1\n",
              "2  sometimes while playing a game, you can answer...          1\n",
              "3  i have had a lot of fun with this thing. my 4 ...          1\n",
              "4                                              music          1"
            ],
            "text/html": [
              "\n",
              "  <div id=\"df-bd338996-a7c1-433f-9ada-1cafe264a8a9\">\n",
              "    <div class=\"colab-df-container\">\n",
              "      <div>\n",
              "<style scoped>\n",
              "    .dataframe tbody tr th:only-of-type {\n",
              "        vertical-align: middle;\n",
              "    }\n",
              "\n",
              "    .dataframe tbody tr th {\n",
              "        vertical-align: top;\n",
              "    }\n",
              "\n",
              "    .dataframe thead th {\n",
              "        text-align: right;\n",
              "    }\n",
              "</style>\n",
              "<table border=\"1\" class=\"dataframe\">\n",
              "  <thead>\n",
              "    <tr style=\"text-align: right;\">\n",
              "      <th></th>\n",
              "      <th>reviews</th>\n",
              "      <th>sentiment</th>\n",
              "    </tr>\n",
              "  </thead>\n",
              "  <tbody>\n",
              "    <tr>\n",
              "      <th>0</th>\n",
              "      <td>love my echo!</td>\n",
              "      <td>1</td>\n",
              "    </tr>\n",
              "    <tr>\n",
              "      <th>1</th>\n",
              "      <td>loved it!</td>\n",
              "      <td>1</td>\n",
              "    </tr>\n",
              "    <tr>\n",
              "      <th>2</th>\n",
              "      <td>sometimes while playing a game, you can answer...</td>\n",
              "      <td>1</td>\n",
              "    </tr>\n",
              "    <tr>\n",
              "      <th>3</th>\n",
              "      <td>i have had a lot of fun with this thing. my 4 ...</td>\n",
              "      <td>1</td>\n",
              "    </tr>\n",
              "    <tr>\n",
              "      <th>4</th>\n",
              "      <td>music</td>\n",
              "      <td>1</td>\n",
              "    </tr>\n",
              "  </tbody>\n",
              "</table>\n",
              "</div>\n",
              "      <button class=\"colab-df-convert\" onclick=\"convertToInteractive('df-bd338996-a7c1-433f-9ada-1cafe264a8a9')\"\n",
              "              title=\"Convert this dataframe to an interactive table.\"\n",
              "              style=\"display:none;\">\n",
              "        \n",
              "  <svg xmlns=\"http://www.w3.org/2000/svg\" height=\"24px\"viewBox=\"0 0 24 24\"\n",
              "       width=\"24px\">\n",
              "    <path d=\"M0 0h24v24H0V0z\" fill=\"none\"/>\n",
              "    <path d=\"M18.56 5.44l.94 2.06.94-2.06 2.06-.94-2.06-.94-.94-2.06-.94 2.06-2.06.94zm-11 1L8.5 8.5l.94-2.06 2.06-.94-2.06-.94L8.5 2.5l-.94 2.06-2.06.94zm10 10l.94 2.06.94-2.06 2.06-.94-2.06-.94-.94-2.06-.94 2.06-2.06.94z\"/><path d=\"M17.41 7.96l-1.37-1.37c-.4-.4-.92-.59-1.43-.59-.52 0-1.04.2-1.43.59L10.3 9.45l-7.72 7.72c-.78.78-.78 2.05 0 2.83L4 21.41c.39.39.9.59 1.41.59.51 0 1.02-.2 1.41-.59l7.78-7.78 2.81-2.81c.8-.78.8-2.07 0-2.86zM5.41 20L4 18.59l7.72-7.72 1.47 1.35L5.41 20z\"/>\n",
              "  </svg>\n",
              "      </button>\n",
              "      \n",
              "  <style>\n",
              "    .colab-df-container {\n",
              "      display:flex;\n",
              "      flex-wrap:wrap;\n",
              "      gap: 12px;\n",
              "    }\n",
              "\n",
              "    .colab-df-convert {\n",
              "      background-color: #E8F0FE;\n",
              "      border: none;\n",
              "      border-radius: 50%;\n",
              "      cursor: pointer;\n",
              "      display: none;\n",
              "      fill: #1967D2;\n",
              "      height: 32px;\n",
              "      padding: 0 0 0 0;\n",
              "      width: 32px;\n",
              "    }\n",
              "\n",
              "    .colab-df-convert:hover {\n",
              "      background-color: #E2EBFA;\n",
              "      box-shadow: 0px 1px 2px rgba(60, 64, 67, 0.3), 0px 1px 3px 1px rgba(60, 64, 67, 0.15);\n",
              "      fill: #174EA6;\n",
              "    }\n",
              "\n",
              "    [theme=dark] .colab-df-convert {\n",
              "      background-color: #3B4455;\n",
              "      fill: #D2E3FC;\n",
              "    }\n",
              "\n",
              "    [theme=dark] .colab-df-convert:hover {\n",
              "      background-color: #434B5C;\n",
              "      box-shadow: 0px 1px 3px 1px rgba(0, 0, 0, 0.15);\n",
              "      filter: drop-shadow(0px 1px 2px rgba(0, 0, 0, 0.3));\n",
              "      fill: #FFFFFF;\n",
              "    }\n",
              "  </style>\n",
              "\n",
              "      <script>\n",
              "        const buttonEl =\n",
              "          document.querySelector('#df-bd338996-a7c1-433f-9ada-1cafe264a8a9 button.colab-df-convert');\n",
              "        buttonEl.style.display =\n",
              "          google.colab.kernel.accessAllowed ? 'block' : 'none';\n",
              "\n",
              "        async function convertToInteractive(key) {\n",
              "          const element = document.querySelector('#df-bd338996-a7c1-433f-9ada-1cafe264a8a9');\n",
              "          const dataTable =\n",
              "            await google.colab.kernel.invokeFunction('convertToInteractive',\n",
              "                                                     [key], {});\n",
              "          if (!dataTable) return;\n",
              "\n",
              "          const docLinkHtml = 'Like what you see? Visit the ' +\n",
              "            '<a target=\"_blank\" href=https://colab.research.google.com/notebooks/data_table.ipynb>data table notebook</a>'\n",
              "            + ' to learn more about interactive tables.';\n",
              "          element.innerHTML = '';\n",
              "          dataTable['output_type'] = 'display_data';\n",
              "          await google.colab.output.renderOutput(dataTable, element);\n",
              "          const docLink = document.createElement('div');\n",
              "          docLink.innerHTML = docLinkHtml;\n",
              "          element.appendChild(docLink);\n",
              "        }\n",
              "      </script>\n",
              "    </div>\n",
              "  </div>\n",
              "  "
            ]
          },
          "metadata": {},
          "execution_count": 19
        }
      ],
      "source": [
        "# 1. lowering case\n",
        "data['reviews'] = data['reviews'].str.lower()  # lowering the case!\n",
        "data.head()"
      ]
    },
    {
      "cell_type": "code",
      "execution_count": null,
      "id": "5a65dea3",
      "metadata": {
        "execution": {
          "iopub.execute_input": "2022-06-15T01:49:18.246992Z",
          "iopub.status.busy": "2022-06-15T01:49:18.246312Z",
          "iopub.status.idle": "2022-06-15T01:49:18.578369Z",
          "shell.execute_reply": "2022-06-15T01:49:18.577689Z"
        },
        "papermill": {
          "duration": 0.357127,
          "end_time": "2022-06-15T01:49:18.580315",
          "exception": false,
          "start_time": "2022-06-15T01:49:18.223188",
          "status": "completed"
        },
        "tags": [],
        "id": "5a65dea3",
        "outputId": "f47de998-4b86-40db-cd27-c816f558c0ef",
        "colab": {
          "base_uri": "https://localhost:8080/",
          "height": 206
        }
      },
      "outputs": [
        {
          "output_type": "execute_result",
          "data": {
            "text/plain": [
              "                                             reviews  sentiment\n",
              "0                                       love my echo          1\n",
              "1                                           loved it          1\n",
              "2  sometimes while playing a game you can answer ...          1\n",
              "3  i have had a lot of fun with this thing my 4 y...          1\n",
              "4                                              music          1"
            ],
            "text/html": [
              "\n",
              "  <div id=\"df-ec1f6ef7-ffaa-4354-a4a9-e863dfe128d6\">\n",
              "    <div class=\"colab-df-container\">\n",
              "      <div>\n",
              "<style scoped>\n",
              "    .dataframe tbody tr th:only-of-type {\n",
              "        vertical-align: middle;\n",
              "    }\n",
              "\n",
              "    .dataframe tbody tr th {\n",
              "        vertical-align: top;\n",
              "    }\n",
              "\n",
              "    .dataframe thead th {\n",
              "        text-align: right;\n",
              "    }\n",
              "</style>\n",
              "<table border=\"1\" class=\"dataframe\">\n",
              "  <thead>\n",
              "    <tr style=\"text-align: right;\">\n",
              "      <th></th>\n",
              "      <th>reviews</th>\n",
              "      <th>sentiment</th>\n",
              "    </tr>\n",
              "  </thead>\n",
              "  <tbody>\n",
              "    <tr>\n",
              "      <th>0</th>\n",
              "      <td>love my echo</td>\n",
              "      <td>1</td>\n",
              "    </tr>\n",
              "    <tr>\n",
              "      <th>1</th>\n",
              "      <td>loved it</td>\n",
              "      <td>1</td>\n",
              "    </tr>\n",
              "    <tr>\n",
              "      <th>2</th>\n",
              "      <td>sometimes while playing a game you can answer ...</td>\n",
              "      <td>1</td>\n",
              "    </tr>\n",
              "    <tr>\n",
              "      <th>3</th>\n",
              "      <td>i have had a lot of fun with this thing my 4 y...</td>\n",
              "      <td>1</td>\n",
              "    </tr>\n",
              "    <tr>\n",
              "      <th>4</th>\n",
              "      <td>music</td>\n",
              "      <td>1</td>\n",
              "    </tr>\n",
              "  </tbody>\n",
              "</table>\n",
              "</div>\n",
              "      <button class=\"colab-df-convert\" onclick=\"convertToInteractive('df-ec1f6ef7-ffaa-4354-a4a9-e863dfe128d6')\"\n",
              "              title=\"Convert this dataframe to an interactive table.\"\n",
              "              style=\"display:none;\">\n",
              "        \n",
              "  <svg xmlns=\"http://www.w3.org/2000/svg\" height=\"24px\"viewBox=\"0 0 24 24\"\n",
              "       width=\"24px\">\n",
              "    <path d=\"M0 0h24v24H0V0z\" fill=\"none\"/>\n",
              "    <path d=\"M18.56 5.44l.94 2.06.94-2.06 2.06-.94-2.06-.94-.94-2.06-.94 2.06-2.06.94zm-11 1L8.5 8.5l.94-2.06 2.06-.94-2.06-.94L8.5 2.5l-.94 2.06-2.06.94zm10 10l.94 2.06.94-2.06 2.06-.94-2.06-.94-.94-2.06-.94 2.06-2.06.94z\"/><path d=\"M17.41 7.96l-1.37-1.37c-.4-.4-.92-.59-1.43-.59-.52 0-1.04.2-1.43.59L10.3 9.45l-7.72 7.72c-.78.78-.78 2.05 0 2.83L4 21.41c.39.39.9.59 1.41.59.51 0 1.02-.2 1.41-.59l7.78-7.78 2.81-2.81c.8-.78.8-2.07 0-2.86zM5.41 20L4 18.59l7.72-7.72 1.47 1.35L5.41 20z\"/>\n",
              "  </svg>\n",
              "      </button>\n",
              "      \n",
              "  <style>\n",
              "    .colab-df-container {\n",
              "      display:flex;\n",
              "      flex-wrap:wrap;\n",
              "      gap: 12px;\n",
              "    }\n",
              "\n",
              "    .colab-df-convert {\n",
              "      background-color: #E8F0FE;\n",
              "      border: none;\n",
              "      border-radius: 50%;\n",
              "      cursor: pointer;\n",
              "      display: none;\n",
              "      fill: #1967D2;\n",
              "      height: 32px;\n",
              "      padding: 0 0 0 0;\n",
              "      width: 32px;\n",
              "    }\n",
              "\n",
              "    .colab-df-convert:hover {\n",
              "      background-color: #E2EBFA;\n",
              "      box-shadow: 0px 1px 2px rgba(60, 64, 67, 0.3), 0px 1px 3px 1px rgba(60, 64, 67, 0.15);\n",
              "      fill: #174EA6;\n",
              "    }\n",
              "\n",
              "    [theme=dark] .colab-df-convert {\n",
              "      background-color: #3B4455;\n",
              "      fill: #D2E3FC;\n",
              "    }\n",
              "\n",
              "    [theme=dark] .colab-df-convert:hover {\n",
              "      background-color: #434B5C;\n",
              "      box-shadow: 0px 1px 3px 1px rgba(0, 0, 0, 0.15);\n",
              "      filter: drop-shadow(0px 1px 2px rgba(0, 0, 0, 0.3));\n",
              "      fill: #FFFFFF;\n",
              "    }\n",
              "  </style>\n",
              "\n",
              "      <script>\n",
              "        const buttonEl =\n",
              "          document.querySelector('#df-ec1f6ef7-ffaa-4354-a4a9-e863dfe128d6 button.colab-df-convert');\n",
              "        buttonEl.style.display =\n",
              "          google.colab.kernel.accessAllowed ? 'block' : 'none';\n",
              "\n",
              "        async function convertToInteractive(key) {\n",
              "          const element = document.querySelector('#df-ec1f6ef7-ffaa-4354-a4a9-e863dfe128d6');\n",
              "          const dataTable =\n",
              "            await google.colab.kernel.invokeFunction('convertToInteractive',\n",
              "                                                     [key], {});\n",
              "          if (!dataTable) return;\n",
              "\n",
              "          const docLinkHtml = 'Like what you see? Visit the ' +\n",
              "            '<a target=\"_blank\" href=https://colab.research.google.com/notebooks/data_table.ipynb>data table notebook</a>'\n",
              "            + ' to learn more about interactive tables.';\n",
              "          element.innerHTML = '';\n",
              "          dataTable['output_type'] = 'display_data';\n",
              "          await google.colab.output.renderOutput(dataTable, element);\n",
              "          const docLink = document.createElement('div');\n",
              "          docLink.innerHTML = docLinkHtml;\n",
              "          element.appendChild(docLink);\n",
              "        }\n",
              "      </script>\n",
              "    </div>\n",
              "  </div>\n",
              "  "
            ]
          },
          "metadata": {},
          "execution_count": 20
        }
      ],
      "source": [
        "# 2. remove punctuation!\n",
        "data['reviews'] = data['reviews'].apply(lambda x: re.sub('[^a-z A-Z 0-9-]+', '', x))  # it removes the punctuation\n",
        "data.head()"
      ]
    },
    {
      "cell_type": "code",
      "execution_count": null,
      "id": "6138667d",
      "metadata": {
        "execution": {
          "iopub.execute_input": "2022-06-15T01:49:18.626770Z",
          "iopub.status.busy": "2022-06-15T01:49:18.626086Z",
          "iopub.status.idle": "2022-06-15T01:49:18.908175Z",
          "shell.execute_reply": "2022-06-15T01:49:18.907234Z"
        },
        "papermill": {
          "duration": 0.307821,
          "end_time": "2022-06-15T01:49:18.910397",
          "exception": false,
          "start_time": "2022-06-15T01:49:18.602576",
          "status": "completed"
        },
        "tags": [],
        "id": "6138667d",
        "outputId": "ab96f099-84c3-4bbf-fcf4-6d7e6ee2b0bd",
        "colab": {
          "base_uri": "https://localhost:8080/",
          "height": 206
        }
      },
      "outputs": [
        {
          "output_type": "execute_result",
          "data": {
            "text/plain": [
              "                                             reviews  sentiment\n",
              "0                                          love echo          1\n",
              "1                                              loved          1\n",
              "2  playing game answer question correctly alexa s...          1\n",
              "3  lot fun thing 4 yr old learns dinosaurs contro...          1\n",
              "4                                              music          1"
            ],
            "text/html": [
              "\n",
              "  <div id=\"df-4f264553-fa37-4b7f-ad20-65a76881d068\">\n",
              "    <div class=\"colab-df-container\">\n",
              "      <div>\n",
              "<style scoped>\n",
              "    .dataframe tbody tr th:only-of-type {\n",
              "        vertical-align: middle;\n",
              "    }\n",
              "\n",
              "    .dataframe tbody tr th {\n",
              "        vertical-align: top;\n",
              "    }\n",
              "\n",
              "    .dataframe thead th {\n",
              "        text-align: right;\n",
              "    }\n",
              "</style>\n",
              "<table border=\"1\" class=\"dataframe\">\n",
              "  <thead>\n",
              "    <tr style=\"text-align: right;\">\n",
              "      <th></th>\n",
              "      <th>reviews</th>\n",
              "      <th>sentiment</th>\n",
              "    </tr>\n",
              "  </thead>\n",
              "  <tbody>\n",
              "    <tr>\n",
              "      <th>0</th>\n",
              "      <td>love echo</td>\n",
              "      <td>1</td>\n",
              "    </tr>\n",
              "    <tr>\n",
              "      <th>1</th>\n",
              "      <td>loved</td>\n",
              "      <td>1</td>\n",
              "    </tr>\n",
              "    <tr>\n",
              "      <th>2</th>\n",
              "      <td>playing game answer question correctly alexa s...</td>\n",
              "      <td>1</td>\n",
              "    </tr>\n",
              "    <tr>\n",
              "      <th>3</th>\n",
              "      <td>lot fun thing 4 yr old learns dinosaurs contro...</td>\n",
              "      <td>1</td>\n",
              "    </tr>\n",
              "    <tr>\n",
              "      <th>4</th>\n",
              "      <td>music</td>\n",
              "      <td>1</td>\n",
              "    </tr>\n",
              "  </tbody>\n",
              "</table>\n",
              "</div>\n",
              "      <button class=\"colab-df-convert\" onclick=\"convertToInteractive('df-4f264553-fa37-4b7f-ad20-65a76881d068')\"\n",
              "              title=\"Convert this dataframe to an interactive table.\"\n",
              "              style=\"display:none;\">\n",
              "        \n",
              "  <svg xmlns=\"http://www.w3.org/2000/svg\" height=\"24px\"viewBox=\"0 0 24 24\"\n",
              "       width=\"24px\">\n",
              "    <path d=\"M0 0h24v24H0V0z\" fill=\"none\"/>\n",
              "    <path d=\"M18.56 5.44l.94 2.06.94-2.06 2.06-.94-2.06-.94-.94-2.06-.94 2.06-2.06.94zm-11 1L8.5 8.5l.94-2.06 2.06-.94-2.06-.94L8.5 2.5l-.94 2.06-2.06.94zm10 10l.94 2.06.94-2.06 2.06-.94-2.06-.94-.94-2.06-.94 2.06-2.06.94z\"/><path d=\"M17.41 7.96l-1.37-1.37c-.4-.4-.92-.59-1.43-.59-.52 0-1.04.2-1.43.59L10.3 9.45l-7.72 7.72c-.78.78-.78 2.05 0 2.83L4 21.41c.39.39.9.59 1.41.59.51 0 1.02-.2 1.41-.59l7.78-7.78 2.81-2.81c.8-.78.8-2.07 0-2.86zM5.41 20L4 18.59l7.72-7.72 1.47 1.35L5.41 20z\"/>\n",
              "  </svg>\n",
              "      </button>\n",
              "      \n",
              "  <style>\n",
              "    .colab-df-container {\n",
              "      display:flex;\n",
              "      flex-wrap:wrap;\n",
              "      gap: 12px;\n",
              "    }\n",
              "\n",
              "    .colab-df-convert {\n",
              "      background-color: #E8F0FE;\n",
              "      border: none;\n",
              "      border-radius: 50%;\n",
              "      cursor: pointer;\n",
              "      display: none;\n",
              "      fill: #1967D2;\n",
              "      height: 32px;\n",
              "      padding: 0 0 0 0;\n",
              "      width: 32px;\n",
              "    }\n",
              "\n",
              "    .colab-df-convert:hover {\n",
              "      background-color: #E2EBFA;\n",
              "      box-shadow: 0px 1px 2px rgba(60, 64, 67, 0.3), 0px 1px 3px 1px rgba(60, 64, 67, 0.15);\n",
              "      fill: #174EA6;\n",
              "    }\n",
              "\n",
              "    [theme=dark] .colab-df-convert {\n",
              "      background-color: #3B4455;\n",
              "      fill: #D2E3FC;\n",
              "    }\n",
              "\n",
              "    [theme=dark] .colab-df-convert:hover {\n",
              "      background-color: #434B5C;\n",
              "      box-shadow: 0px 1px 3px 1px rgba(0, 0, 0, 0.15);\n",
              "      filter: drop-shadow(0px 1px 2px rgba(0, 0, 0, 0.3));\n",
              "      fill: #FFFFFF;\n",
              "    }\n",
              "  </style>\n",
              "\n",
              "      <script>\n",
              "        const buttonEl =\n",
              "          document.querySelector('#df-4f264553-fa37-4b7f-ad20-65a76881d068 button.colab-df-convert');\n",
              "        buttonEl.style.display =\n",
              "          google.colab.kernel.accessAllowed ? 'block' : 'none';\n",
              "\n",
              "        async function convertToInteractive(key) {\n",
              "          const element = document.querySelector('#df-4f264553-fa37-4b7f-ad20-65a76881d068');\n",
              "          const dataTable =\n",
              "            await google.colab.kernel.invokeFunction('convertToInteractive',\n",
              "                                                     [key], {});\n",
              "          if (!dataTable) return;\n",
              "\n",
              "          const docLinkHtml = 'Like what you see? Visit the ' +\n",
              "            '<a target=\"_blank\" href=https://colab.research.google.com/notebooks/data_table.ipynb>data table notebook</a>'\n",
              "            + ' to learn more about interactive tables.';\n",
              "          element.innerHTML = '';\n",
              "          dataTable['output_type'] = 'display_data';\n",
              "          await google.colab.output.renderOutput(dataTable, element);\n",
              "          const docLink = document.createElement('div');\n",
              "          docLink.innerHTML = docLinkHtml;\n",
              "          element.appendChild(docLink);\n",
              "        }\n",
              "      </script>\n",
              "    </div>\n",
              "  </div>\n",
              "  "
            ]
          },
          "metadata": {},
          "execution_count": 21
        }
      ],
      "source": [
        "# 3. remove stopwords! (you can check the notebook, if you have any doubt)\n",
        "\n",
        "from spacy.lang.en.stop_words import STOP_WORDS\n",
        "data['reviews'] = data['reviews'].apply(lambda x: \" \".join([i for i in x.split() if i not in STOP_WORDS]) )\n",
        "\n",
        "data.head()"
      ]
    },
    {
      "cell_type": "code",
      "execution_count": null,
      "id": "8498f026",
      "metadata": {
        "execution": {
          "iopub.execute_input": "2022-06-15T01:49:18.956016Z",
          "iopub.status.busy": "2022-06-15T01:49:18.955612Z",
          "iopub.status.idle": "2022-06-15T01:49:19.101288Z",
          "shell.execute_reply": "2022-06-15T01:49:19.100522Z"
        },
        "papermill": {
          "duration": 0.171307,
          "end_time": "2022-06-15T01:49:19.103322",
          "exception": false,
          "start_time": "2022-06-15T01:49:18.932015",
          "status": "completed"
        },
        "tags": [],
        "id": "8498f026",
        "outputId": "1191c50d-0b38-4ff1-9c54-33da26ada989",
        "colab": {
          "base_uri": "https://localhost:8080/",
          "height": 206
        }
      },
      "outputs": [
        {
          "output_type": "execute_result",
          "data": {
            "text/plain": [
              "                                             reviews  sentiment\n",
              "0                                          love echo          1\n",
              "1                                              loved          1\n",
              "2  playing game answer question correctly alexa s...          1\n",
              "3  lot fun thing 4 yr old learns dinosaurs contro...          1\n",
              "4                                              music          1"
            ],
            "text/html": [
              "\n",
              "  <div id=\"df-7aec86cd-4815-466a-875c-ac1fd3a90144\">\n",
              "    <div class=\"colab-df-container\">\n",
              "      <div>\n",
              "<style scoped>\n",
              "    .dataframe tbody tr th:only-of-type {\n",
              "        vertical-align: middle;\n",
              "    }\n",
              "\n",
              "    .dataframe tbody tr th {\n",
              "        vertical-align: top;\n",
              "    }\n",
              "\n",
              "    .dataframe thead th {\n",
              "        text-align: right;\n",
              "    }\n",
              "</style>\n",
              "<table border=\"1\" class=\"dataframe\">\n",
              "  <thead>\n",
              "    <tr style=\"text-align: right;\">\n",
              "      <th></th>\n",
              "      <th>reviews</th>\n",
              "      <th>sentiment</th>\n",
              "    </tr>\n",
              "  </thead>\n",
              "  <tbody>\n",
              "    <tr>\n",
              "      <th>0</th>\n",
              "      <td>love echo</td>\n",
              "      <td>1</td>\n",
              "    </tr>\n",
              "    <tr>\n",
              "      <th>1</th>\n",
              "      <td>loved</td>\n",
              "      <td>1</td>\n",
              "    </tr>\n",
              "    <tr>\n",
              "      <th>2</th>\n",
              "      <td>playing game answer question correctly alexa s...</td>\n",
              "      <td>1</td>\n",
              "    </tr>\n",
              "    <tr>\n",
              "      <th>3</th>\n",
              "      <td>lot fun thing 4 yr old learns dinosaurs contro...</td>\n",
              "      <td>1</td>\n",
              "    </tr>\n",
              "    <tr>\n",
              "      <th>4</th>\n",
              "      <td>music</td>\n",
              "      <td>1</td>\n",
              "    </tr>\n",
              "  </tbody>\n",
              "</table>\n",
              "</div>\n",
              "      <button class=\"colab-df-convert\" onclick=\"convertToInteractive('df-7aec86cd-4815-466a-875c-ac1fd3a90144')\"\n",
              "              title=\"Convert this dataframe to an interactive table.\"\n",
              "              style=\"display:none;\">\n",
              "        \n",
              "  <svg xmlns=\"http://www.w3.org/2000/svg\" height=\"24px\"viewBox=\"0 0 24 24\"\n",
              "       width=\"24px\">\n",
              "    <path d=\"M0 0h24v24H0V0z\" fill=\"none\"/>\n",
              "    <path d=\"M18.56 5.44l.94 2.06.94-2.06 2.06-.94-2.06-.94-.94-2.06-.94 2.06-2.06.94zm-11 1L8.5 8.5l.94-2.06 2.06-.94-2.06-.94L8.5 2.5l-.94 2.06-2.06.94zm10 10l.94 2.06.94-2.06 2.06-.94-2.06-.94-.94-2.06-.94 2.06-2.06.94z\"/><path d=\"M17.41 7.96l-1.37-1.37c-.4-.4-.92-.59-1.43-.59-.52 0-1.04.2-1.43.59L10.3 9.45l-7.72 7.72c-.78.78-.78 2.05 0 2.83L4 21.41c.39.39.9.59 1.41.59.51 0 1.02-.2 1.41-.59l7.78-7.78 2.81-2.81c.8-.78.8-2.07 0-2.86zM5.41 20L4 18.59l7.72-7.72 1.47 1.35L5.41 20z\"/>\n",
              "  </svg>\n",
              "      </button>\n",
              "      \n",
              "  <style>\n",
              "    .colab-df-container {\n",
              "      display:flex;\n",
              "      flex-wrap:wrap;\n",
              "      gap: 12px;\n",
              "    }\n",
              "\n",
              "    .colab-df-convert {\n",
              "      background-color: #E8F0FE;\n",
              "      border: none;\n",
              "      border-radius: 50%;\n",
              "      cursor: pointer;\n",
              "      display: none;\n",
              "      fill: #1967D2;\n",
              "      height: 32px;\n",
              "      padding: 0 0 0 0;\n",
              "      width: 32px;\n",
              "    }\n",
              "\n",
              "    .colab-df-convert:hover {\n",
              "      background-color: #E2EBFA;\n",
              "      box-shadow: 0px 1px 2px rgba(60, 64, 67, 0.3), 0px 1px 3px 1px rgba(60, 64, 67, 0.15);\n",
              "      fill: #174EA6;\n",
              "    }\n",
              "\n",
              "    [theme=dark] .colab-df-convert {\n",
              "      background-color: #3B4455;\n",
              "      fill: #D2E3FC;\n",
              "    }\n",
              "\n",
              "    [theme=dark] .colab-df-convert:hover {\n",
              "      background-color: #434B5C;\n",
              "      box-shadow: 0px 1px 3px 1px rgba(0, 0, 0, 0.15);\n",
              "      filter: drop-shadow(0px 1px 2px rgba(0, 0, 0, 0.3));\n",
              "      fill: #FFFFFF;\n",
              "    }\n",
              "  </style>\n",
              "\n",
              "      <script>\n",
              "        const buttonEl =\n",
              "          document.querySelector('#df-7aec86cd-4815-466a-875c-ac1fd3a90144 button.colab-df-convert');\n",
              "        buttonEl.style.display =\n",
              "          google.colab.kernel.accessAllowed ? 'block' : 'none';\n",
              "\n",
              "        async function convertToInteractive(key) {\n",
              "          const element = document.querySelector('#df-7aec86cd-4815-466a-875c-ac1fd3a90144');\n",
              "          const dataTable =\n",
              "            await google.colab.kernel.invokeFunction('convertToInteractive',\n",
              "                                                     [key], {});\n",
              "          if (!dataTable) return;\n",
              "\n",
              "          const docLinkHtml = 'Like what you see? Visit the ' +\n",
              "            '<a target=\"_blank\" href=https://colab.research.google.com/notebooks/data_table.ipynb>data table notebook</a>'\n",
              "            + ' to learn more about interactive tables.';\n",
              "          element.innerHTML = '';\n",
              "          dataTable['output_type'] = 'display_data';\n",
              "          await google.colab.output.renderOutput(dataTable, element);\n",
              "          const docLink = document.createElement('div');\n",
              "          docLink.innerHTML = docLinkHtml;\n",
              "          element.appendChild(docLink);\n",
              "        }\n",
              "      </script>\n",
              "    </div>\n",
              "  </div>\n",
              "  "
            ]
          },
          "metadata": {},
          "execution_count": 22
        }
      ],
      "source": [
        "# 4. remove url and tags!\n",
        "data['reviews'] = data['reviews'].apply(lambda x: re.sub(r'(http|https|ftp|ssh)://([\\w_-]+(?:(?:\\.[\\w_-]+)+))([\\w.,@?^=%&:/~+#-]*[\\w@?^=%&/~+#-])?', '' , str(x)))\n",
        "\n",
        "data.head()"
      ]
    },
    {
      "cell_type": "code",
      "execution_count": null,
      "id": "c4b7b2a0",
      "metadata": {
        "execution": {
          "iopub.execute_input": "2022-06-15T01:49:19.151800Z",
          "iopub.status.busy": "2022-06-15T01:49:19.151226Z",
          "iopub.status.idle": "2022-06-15T01:49:21.593927Z",
          "shell.execute_reply": "2022-06-15T01:49:21.592854Z"
        },
        "papermill": {
          "duration": 2.471046,
          "end_time": "2022-06-15T01:49:21.596649",
          "exception": false,
          "start_time": "2022-06-15T01:49:19.125603",
          "status": "completed"
        },
        "tags": [],
        "id": "c4b7b2a0",
        "outputId": "eb96d479-b6ae-45bf-9336-04290d5e99d1",
        "colab": {
          "base_uri": "https://localhost:8080/",
          "height": 206
        }
      },
      "outputs": [
        {
          "output_type": "execute_result",
          "data": {
            "text/plain": [
              "                                             reviews  sentiment\n",
              "0                                          love echo          1\n",
              "1                                              loved          1\n",
              "2  playing game answer question correctly alexa s...          1\n",
              "3  lot fun thing 4 yr old learns dinosaurs contro...          1\n",
              "4                                              music          1"
            ],
            "text/html": [
              "\n",
              "  <div id=\"df-acb13242-33ba-4045-b590-5020d60d63ea\">\n",
              "    <div class=\"colab-df-container\">\n",
              "      <div>\n",
              "<style scoped>\n",
              "    .dataframe tbody tr th:only-of-type {\n",
              "        vertical-align: middle;\n",
              "    }\n",
              "\n",
              "    .dataframe tbody tr th {\n",
              "        vertical-align: top;\n",
              "    }\n",
              "\n",
              "    .dataframe thead th {\n",
              "        text-align: right;\n",
              "    }\n",
              "</style>\n",
              "<table border=\"1\" class=\"dataframe\">\n",
              "  <thead>\n",
              "    <tr style=\"text-align: right;\">\n",
              "      <th></th>\n",
              "      <th>reviews</th>\n",
              "      <th>sentiment</th>\n",
              "    </tr>\n",
              "  </thead>\n",
              "  <tbody>\n",
              "    <tr>\n",
              "      <th>0</th>\n",
              "      <td>love echo</td>\n",
              "      <td>1</td>\n",
              "    </tr>\n",
              "    <tr>\n",
              "      <th>1</th>\n",
              "      <td>loved</td>\n",
              "      <td>1</td>\n",
              "    </tr>\n",
              "    <tr>\n",
              "      <th>2</th>\n",
              "      <td>playing game answer question correctly alexa s...</td>\n",
              "      <td>1</td>\n",
              "    </tr>\n",
              "    <tr>\n",
              "      <th>3</th>\n",
              "      <td>lot fun thing 4 yr old learns dinosaurs contro...</td>\n",
              "      <td>1</td>\n",
              "    </tr>\n",
              "    <tr>\n",
              "      <th>4</th>\n",
              "      <td>music</td>\n",
              "      <td>1</td>\n",
              "    </tr>\n",
              "  </tbody>\n",
              "</table>\n",
              "</div>\n",
              "      <button class=\"colab-df-convert\" onclick=\"convertToInteractive('df-acb13242-33ba-4045-b590-5020d60d63ea')\"\n",
              "              title=\"Convert this dataframe to an interactive table.\"\n",
              "              style=\"display:none;\">\n",
              "        \n",
              "  <svg xmlns=\"http://www.w3.org/2000/svg\" height=\"24px\"viewBox=\"0 0 24 24\"\n",
              "       width=\"24px\">\n",
              "    <path d=\"M0 0h24v24H0V0z\" fill=\"none\"/>\n",
              "    <path d=\"M18.56 5.44l.94 2.06.94-2.06 2.06-.94-2.06-.94-.94-2.06-.94 2.06-2.06.94zm-11 1L8.5 8.5l.94-2.06 2.06-.94-2.06-.94L8.5 2.5l-.94 2.06-2.06.94zm10 10l.94 2.06.94-2.06 2.06-.94-2.06-.94-.94-2.06-.94 2.06-2.06.94z\"/><path d=\"M17.41 7.96l-1.37-1.37c-.4-.4-.92-.59-1.43-.59-.52 0-1.04.2-1.43.59L10.3 9.45l-7.72 7.72c-.78.78-.78 2.05 0 2.83L4 21.41c.39.39.9.59 1.41.59.51 0 1.02-.2 1.41-.59l7.78-7.78 2.81-2.81c.8-.78.8-2.07 0-2.86zM5.41 20L4 18.59l7.72-7.72 1.47 1.35L5.41 20z\"/>\n",
              "  </svg>\n",
              "      </button>\n",
              "      \n",
              "  <style>\n",
              "    .colab-df-container {\n",
              "      display:flex;\n",
              "      flex-wrap:wrap;\n",
              "      gap: 12px;\n",
              "    }\n",
              "\n",
              "    .colab-df-convert {\n",
              "      background-color: #E8F0FE;\n",
              "      border: none;\n",
              "      border-radius: 50%;\n",
              "      cursor: pointer;\n",
              "      display: none;\n",
              "      fill: #1967D2;\n",
              "      height: 32px;\n",
              "      padding: 0 0 0 0;\n",
              "      width: 32px;\n",
              "    }\n",
              "\n",
              "    .colab-df-convert:hover {\n",
              "      background-color: #E2EBFA;\n",
              "      box-shadow: 0px 1px 2px rgba(60, 64, 67, 0.3), 0px 1px 3px 1px rgba(60, 64, 67, 0.15);\n",
              "      fill: #174EA6;\n",
              "    }\n",
              "\n",
              "    [theme=dark] .colab-df-convert {\n",
              "      background-color: #3B4455;\n",
              "      fill: #D2E3FC;\n",
              "    }\n",
              "\n",
              "    [theme=dark] .colab-df-convert:hover {\n",
              "      background-color: #434B5C;\n",
              "      box-shadow: 0px 1px 3px 1px rgba(0, 0, 0, 0.15);\n",
              "      filter: drop-shadow(0px 1px 2px rgba(0, 0, 0, 0.3));\n",
              "      fill: #FFFFFF;\n",
              "    }\n",
              "  </style>\n",
              "\n",
              "      <script>\n",
              "        const buttonEl =\n",
              "          document.querySelector('#df-acb13242-33ba-4045-b590-5020d60d63ea button.colab-df-convert');\n",
              "        buttonEl.style.display =\n",
              "          google.colab.kernel.accessAllowed ? 'block' : 'none';\n",
              "\n",
              "        async function convertToInteractive(key) {\n",
              "          const element = document.querySelector('#df-acb13242-33ba-4045-b590-5020d60d63ea');\n",
              "          const dataTable =\n",
              "            await google.colab.kernel.invokeFunction('convertToInteractive',\n",
              "                                                     [key], {});\n",
              "          if (!dataTable) return;\n",
              "\n",
              "          const docLinkHtml = 'Like what you see? Visit the ' +\n",
              "            '<a target=\"_blank\" href=https://colab.research.google.com/notebooks/data_table.ipynb>data table notebook</a>'\n",
              "            + ' to learn more about interactive tables.';\n",
              "          element.innerHTML = '';\n",
              "          dataTable['output_type'] = 'display_data';\n",
              "          await google.colab.output.renderOutput(dataTable, element);\n",
              "          const docLink = document.createElement('div');\n",
              "          docLink.innerHTML = docLinkHtml;\n",
              "          element.appendChild(docLink);\n",
              "        }\n",
              "      </script>\n",
              "    </div>\n",
              "  </div>\n",
              "  "
            ]
          },
          "metadata": {},
          "execution_count": 23
        }
      ],
      "source": [
        "# 5. remove html tags!\n",
        "data['reviews'] = data['reviews'].apply(lambda x: BeautifulSoup(x, 'lxml').get_text())\n",
        "\n",
        "data.head()"
      ]
    },
    {
      "cell_type": "code",
      "execution_count": null,
      "id": "78741c96",
      "metadata": {
        "execution": {
          "iopub.execute_input": "2022-06-15T01:49:21.695638Z",
          "iopub.status.busy": "2022-06-15T01:49:21.694941Z",
          "iopub.status.idle": "2022-06-15T01:49:22.101132Z",
          "shell.execute_reply": "2022-06-15T01:49:22.100014Z"
        },
        "papermill": {
          "duration": 0.432192,
          "end_time": "2022-06-15T01:49:22.103600",
          "exception": false,
          "start_time": "2022-06-15T01:49:21.671408",
          "status": "completed"
        },
        "tags": [],
        "id": "78741c96"
      },
      "outputs": [],
      "source": [
        "# 7. remove emails\n",
        "data['reviews'] = data['reviews'].apply(lambda x: re.sub(r'([a-z0-9+._-]+@[a-z0-9+._-]+\\.[a-z0-9+_-]+\\b)', '', x))  # it will remove te emails"
      ]
    },
    {
      "cell_type": "code",
      "execution_count": null,
      "id": "6befc7b1",
      "metadata": {
        "execution": {
          "iopub.execute_input": "2022-06-15T01:49:22.153328Z",
          "iopub.status.busy": "2022-06-15T01:49:22.152746Z",
          "iopub.status.idle": "2022-06-15T01:49:22.239728Z",
          "shell.execute_reply": "2022-06-15T01:49:22.238699Z"
        },
        "papermill": {
          "duration": 0.114965,
          "end_time": "2022-06-15T01:49:22.242152",
          "exception": false,
          "start_time": "2022-06-15T01:49:22.127187",
          "status": "completed"
        },
        "tags": [],
        "id": "6befc7b1",
        "outputId": "6d854a00-f882-4a54-82f6-e5377e60e53e",
        "colab": {
          "base_uri": "https://localhost:8080/",
          "height": 206
        }
      },
      "outputs": [
        {
          "output_type": "execute_result",
          "data": {
            "text/plain": [
              "                                             reviews  sentiment\n",
              "0                                          love echo          1\n",
              "1                                              loved          1\n",
              "2  playing game answer question correctly alexa s...          1\n",
              "3  lot fun thing 4 yr old learns dinosaurs contro...          1\n",
              "4                                              music          1"
            ],
            "text/html": [
              "\n",
              "  <div id=\"df-ce981425-08ec-40b8-834f-28caf96d67c6\">\n",
              "    <div class=\"colab-df-container\">\n",
              "      <div>\n",
              "<style scoped>\n",
              "    .dataframe tbody tr th:only-of-type {\n",
              "        vertical-align: middle;\n",
              "    }\n",
              "\n",
              "    .dataframe tbody tr th {\n",
              "        vertical-align: top;\n",
              "    }\n",
              "\n",
              "    .dataframe thead th {\n",
              "        text-align: right;\n",
              "    }\n",
              "</style>\n",
              "<table border=\"1\" class=\"dataframe\">\n",
              "  <thead>\n",
              "    <tr style=\"text-align: right;\">\n",
              "      <th></th>\n",
              "      <th>reviews</th>\n",
              "      <th>sentiment</th>\n",
              "    </tr>\n",
              "  </thead>\n",
              "  <tbody>\n",
              "    <tr>\n",
              "      <th>0</th>\n",
              "      <td>love echo</td>\n",
              "      <td>1</td>\n",
              "    </tr>\n",
              "    <tr>\n",
              "      <th>1</th>\n",
              "      <td>loved</td>\n",
              "      <td>1</td>\n",
              "    </tr>\n",
              "    <tr>\n",
              "      <th>2</th>\n",
              "      <td>playing game answer question correctly alexa s...</td>\n",
              "      <td>1</td>\n",
              "    </tr>\n",
              "    <tr>\n",
              "      <th>3</th>\n",
              "      <td>lot fun thing 4 yr old learns dinosaurs contro...</td>\n",
              "      <td>1</td>\n",
              "    </tr>\n",
              "    <tr>\n",
              "      <th>4</th>\n",
              "      <td>music</td>\n",
              "      <td>1</td>\n",
              "    </tr>\n",
              "  </tbody>\n",
              "</table>\n",
              "</div>\n",
              "      <button class=\"colab-df-convert\" onclick=\"convertToInteractive('df-ce981425-08ec-40b8-834f-28caf96d67c6')\"\n",
              "              title=\"Convert this dataframe to an interactive table.\"\n",
              "              style=\"display:none;\">\n",
              "        \n",
              "  <svg xmlns=\"http://www.w3.org/2000/svg\" height=\"24px\"viewBox=\"0 0 24 24\"\n",
              "       width=\"24px\">\n",
              "    <path d=\"M0 0h24v24H0V0z\" fill=\"none\"/>\n",
              "    <path d=\"M18.56 5.44l.94 2.06.94-2.06 2.06-.94-2.06-.94-.94-2.06-.94 2.06-2.06.94zm-11 1L8.5 8.5l.94-2.06 2.06-.94-2.06-.94L8.5 2.5l-.94 2.06-2.06.94zm10 10l.94 2.06.94-2.06 2.06-.94-2.06-.94-.94-2.06-.94 2.06-2.06.94z\"/><path d=\"M17.41 7.96l-1.37-1.37c-.4-.4-.92-.59-1.43-.59-.52 0-1.04.2-1.43.59L10.3 9.45l-7.72 7.72c-.78.78-.78 2.05 0 2.83L4 21.41c.39.39.9.59 1.41.59.51 0 1.02-.2 1.41-.59l7.78-7.78 2.81-2.81c.8-.78.8-2.07 0-2.86zM5.41 20L4 18.59l7.72-7.72 1.47 1.35L5.41 20z\"/>\n",
              "  </svg>\n",
              "      </button>\n",
              "      \n",
              "  <style>\n",
              "    .colab-df-container {\n",
              "      display:flex;\n",
              "      flex-wrap:wrap;\n",
              "      gap: 12px;\n",
              "    }\n",
              "\n",
              "    .colab-df-convert {\n",
              "      background-color: #E8F0FE;\n",
              "      border: none;\n",
              "      border-radius: 50%;\n",
              "      cursor: pointer;\n",
              "      display: none;\n",
              "      fill: #1967D2;\n",
              "      height: 32px;\n",
              "      padding: 0 0 0 0;\n",
              "      width: 32px;\n",
              "    }\n",
              "\n",
              "    .colab-df-convert:hover {\n",
              "      background-color: #E2EBFA;\n",
              "      box-shadow: 0px 1px 2px rgba(60, 64, 67, 0.3), 0px 1px 3px 1px rgba(60, 64, 67, 0.15);\n",
              "      fill: #174EA6;\n",
              "    }\n",
              "\n",
              "    [theme=dark] .colab-df-convert {\n",
              "      background-color: #3B4455;\n",
              "      fill: #D2E3FC;\n",
              "    }\n",
              "\n",
              "    [theme=dark] .colab-df-convert:hover {\n",
              "      background-color: #434B5C;\n",
              "      box-shadow: 0px 1px 3px 1px rgba(0, 0, 0, 0.15);\n",
              "      filter: drop-shadow(0px 1px 2px rgba(0, 0, 0, 0.3));\n",
              "      fill: #FFFFFF;\n",
              "    }\n",
              "  </style>\n",
              "\n",
              "      <script>\n",
              "        const buttonEl =\n",
              "          document.querySelector('#df-ce981425-08ec-40b8-834f-28caf96d67c6 button.colab-df-convert');\n",
              "        buttonEl.style.display =\n",
              "          google.colab.kernel.accessAllowed ? 'block' : 'none';\n",
              "\n",
              "        async function convertToInteractive(key) {\n",
              "          const element = document.querySelector('#df-ce981425-08ec-40b8-834f-28caf96d67c6');\n",
              "          const dataTable =\n",
              "            await google.colab.kernel.invokeFunction('convertToInteractive',\n",
              "                                                     [key], {});\n",
              "          if (!dataTable) return;\n",
              "\n",
              "          const docLinkHtml = 'Like what you see? Visit the ' +\n",
              "            '<a target=\"_blank\" href=https://colab.research.google.com/notebooks/data_table.ipynb>data table notebook</a>'\n",
              "            + ' to learn more about interactive tables.';\n",
              "          element.innerHTML = '';\n",
              "          dataTable['output_type'] = 'display_data';\n",
              "          await google.colab.output.renderOutput(dataTable, element);\n",
              "          const docLink = document.createElement('div');\n",
              "          docLink.innerHTML = docLinkHtml;\n",
              "          element.appendChild(docLink);\n",
              "        }\n",
              "      </script>\n",
              "    </div>\n",
              "  </div>\n",
              "  "
            ]
          },
          "metadata": {},
          "execution_count": 25
        }
      ],
      "source": [
        "# 8. remove extra spaces\n",
        "data['reviews'] = data['reviews'].apply(lambda x: \" \".join(x.split()))\n",
        "data.head()"
      ]
    },
    {
      "cell_type": "code",
      "source": [
        "import nltk\n",
        "nltk.download('wordnet')"
      ],
      "metadata": {
        "colab": {
          "base_uri": "https://localhost:8080/"
        },
        "id": "tJFycxeW2rrM",
        "outputId": "00c3b62d-d4f6-41a0-ddd2-86fe4c642f62"
      },
      "id": "tJFycxeW2rrM",
      "execution_count": null,
      "outputs": [
        {
          "output_type": "stream",
          "name": "stderr",
          "text": [
            "[nltk_data] Downloading package wordnet to /root/nltk_data...\n"
          ]
        },
        {
          "output_type": "execute_result",
          "data": {
            "text/plain": [
              "True"
            ]
          },
          "metadata": {},
          "execution_count": 26
        }
      ]
    },
    {
      "cell_type": "code",
      "source": [
        "import nltk\n",
        "nltk.download('omw-1.4')"
      ],
      "metadata": {
        "colab": {
          "base_uri": "https://localhost:8080/"
        },
        "id": "dAEhiFiX2xdZ",
        "outputId": "cad771db-5b26-4745-9b9a-4adada5552f1"
      },
      "id": "dAEhiFiX2xdZ",
      "execution_count": null,
      "outputs": [
        {
          "output_type": "stream",
          "name": "stderr",
          "text": [
            "[nltk_data] Downloading package omw-1.4 to /root/nltk_data...\n"
          ]
        },
        {
          "output_type": "execute_result",
          "data": {
            "text/plain": [
              "True"
            ]
          },
          "metadata": {},
          "execution_count": 27
        }
      ]
    },
    {
      "cell_type": "code",
      "execution_count": null,
      "id": "def24dc3",
      "metadata": {
        "execution": {
          "iopub.execute_input": "2022-06-15T01:49:22.291633Z",
          "iopub.status.busy": "2022-06-15T01:49:22.290716Z",
          "iopub.status.idle": "2022-06-15T01:49:27.923684Z",
          "shell.execute_reply": "2022-06-15T01:49:27.922736Z"
        },
        "papermill": {
          "duration": 5.660511,
          "end_time": "2022-06-15T01:49:27.926190",
          "exception": false,
          "start_time": "2022-06-15T01:49:22.265679",
          "status": "completed"
        },
        "tags": [],
        "id": "def24dc3",
        "outputId": "48c26121-bd05-4e62-a444-2a528b5632e1",
        "colab": {
          "base_uri": "https://localhost:8080/",
          "height": 241
        }
      },
      "outputs": [
        {
          "output_type": "stream",
          "name": "stdout",
          "text": [
            "CPU times: user 3 µs, sys: 0 ns, total: 3 µs\n",
            "Wall time: 7.15 µs\n"
          ]
        },
        {
          "output_type": "execute_result",
          "data": {
            "text/plain": [
              "                                             reviews  sentiment\n",
              "0                                          love echo          1\n",
              "1                                              loved          1\n",
              "2  playing game answer question correctly alexa s...          1\n",
              "3  lot fun thing 4 yr old learns dinosaur control...          1\n",
              "4                                              music          1"
            ],
            "text/html": [
              "\n",
              "  <div id=\"df-1ba84152-361f-4de0-a6f2-6e09df7cf7e0\">\n",
              "    <div class=\"colab-df-container\">\n",
              "      <div>\n",
              "<style scoped>\n",
              "    .dataframe tbody tr th:only-of-type {\n",
              "        vertical-align: middle;\n",
              "    }\n",
              "\n",
              "    .dataframe tbody tr th {\n",
              "        vertical-align: top;\n",
              "    }\n",
              "\n",
              "    .dataframe thead th {\n",
              "        text-align: right;\n",
              "    }\n",
              "</style>\n",
              "<table border=\"1\" class=\"dataframe\">\n",
              "  <thead>\n",
              "    <tr style=\"text-align: right;\">\n",
              "      <th></th>\n",
              "      <th>reviews</th>\n",
              "      <th>sentiment</th>\n",
              "    </tr>\n",
              "  </thead>\n",
              "  <tbody>\n",
              "    <tr>\n",
              "      <th>0</th>\n",
              "      <td>love echo</td>\n",
              "      <td>1</td>\n",
              "    </tr>\n",
              "    <tr>\n",
              "      <th>1</th>\n",
              "      <td>loved</td>\n",
              "      <td>1</td>\n",
              "    </tr>\n",
              "    <tr>\n",
              "      <th>2</th>\n",
              "      <td>playing game answer question correctly alexa s...</td>\n",
              "      <td>1</td>\n",
              "    </tr>\n",
              "    <tr>\n",
              "      <th>3</th>\n",
              "      <td>lot fun thing 4 yr old learns dinosaur control...</td>\n",
              "      <td>1</td>\n",
              "    </tr>\n",
              "    <tr>\n",
              "      <th>4</th>\n",
              "      <td>music</td>\n",
              "      <td>1</td>\n",
              "    </tr>\n",
              "  </tbody>\n",
              "</table>\n",
              "</div>\n",
              "      <button class=\"colab-df-convert\" onclick=\"convertToInteractive('df-1ba84152-361f-4de0-a6f2-6e09df7cf7e0')\"\n",
              "              title=\"Convert this dataframe to an interactive table.\"\n",
              "              style=\"display:none;\">\n",
              "        \n",
              "  <svg xmlns=\"http://www.w3.org/2000/svg\" height=\"24px\"viewBox=\"0 0 24 24\"\n",
              "       width=\"24px\">\n",
              "    <path d=\"M0 0h24v24H0V0z\" fill=\"none\"/>\n",
              "    <path d=\"M18.56 5.44l.94 2.06.94-2.06 2.06-.94-2.06-.94-.94-2.06-.94 2.06-2.06.94zm-11 1L8.5 8.5l.94-2.06 2.06-.94-2.06-.94L8.5 2.5l-.94 2.06-2.06.94zm10 10l.94 2.06.94-2.06 2.06-.94-2.06-.94-.94-2.06-.94 2.06-2.06.94z\"/><path d=\"M17.41 7.96l-1.37-1.37c-.4-.4-.92-.59-1.43-.59-.52 0-1.04.2-1.43.59L10.3 9.45l-7.72 7.72c-.78.78-.78 2.05 0 2.83L4 21.41c.39.39.9.59 1.41.59.51 0 1.02-.2 1.41-.59l7.78-7.78 2.81-2.81c.8-.78.8-2.07 0-2.86zM5.41 20L4 18.59l7.72-7.72 1.47 1.35L5.41 20z\"/>\n",
              "  </svg>\n",
              "      </button>\n",
              "      \n",
              "  <style>\n",
              "    .colab-df-container {\n",
              "      display:flex;\n",
              "      flex-wrap:wrap;\n",
              "      gap: 12px;\n",
              "    }\n",
              "\n",
              "    .colab-df-convert {\n",
              "      background-color: #E8F0FE;\n",
              "      border: none;\n",
              "      border-radius: 50%;\n",
              "      cursor: pointer;\n",
              "      display: none;\n",
              "      fill: #1967D2;\n",
              "      height: 32px;\n",
              "      padding: 0 0 0 0;\n",
              "      width: 32px;\n",
              "    }\n",
              "\n",
              "    .colab-df-convert:hover {\n",
              "      background-color: #E2EBFA;\n",
              "      box-shadow: 0px 1px 2px rgba(60, 64, 67, 0.3), 0px 1px 3px 1px rgba(60, 64, 67, 0.15);\n",
              "      fill: #174EA6;\n",
              "    }\n",
              "\n",
              "    [theme=dark] .colab-df-convert {\n",
              "      background-color: #3B4455;\n",
              "      fill: #D2E3FC;\n",
              "    }\n",
              "\n",
              "    [theme=dark] .colab-df-convert:hover {\n",
              "      background-color: #434B5C;\n",
              "      box-shadow: 0px 1px 3px 1px rgba(0, 0, 0, 0.15);\n",
              "      filter: drop-shadow(0px 1px 2px rgba(0, 0, 0, 0.3));\n",
              "      fill: #FFFFFF;\n",
              "    }\n",
              "  </style>\n",
              "\n",
              "      <script>\n",
              "        const buttonEl =\n",
              "          document.querySelector('#df-1ba84152-361f-4de0-a6f2-6e09df7cf7e0 button.colab-df-convert');\n",
              "        buttonEl.style.display =\n",
              "          google.colab.kernel.accessAllowed ? 'block' : 'none';\n",
              "\n",
              "        async function convertToInteractive(key) {\n",
              "          const element = document.querySelector('#df-1ba84152-361f-4de0-a6f2-6e09df7cf7e0');\n",
              "          const dataTable =\n",
              "            await google.colab.kernel.invokeFunction('convertToInteractive',\n",
              "                                                     [key], {});\n",
              "          if (!dataTable) return;\n",
              "\n",
              "          const docLinkHtml = 'Like what you see? Visit the ' +\n",
              "            '<a target=\"_blank\" href=https://colab.research.google.com/notebooks/data_table.ipynb>data table notebook</a>'\n",
              "            + ' to learn more about interactive tables.';\n",
              "          element.innerHTML = '';\n",
              "          dataTable['output_type'] = 'display_data';\n",
              "          await google.colab.output.renderOutput(dataTable, element);\n",
              "          const docLink = document.createElement('div');\n",
              "          docLink.innerHTML = docLinkHtml;\n",
              "          element.appendChild(docLink);\n",
              "        }\n",
              "      </script>\n",
              "    </div>\n",
              "  </div>\n",
              "  "
            ]
          },
          "metadata": {},
          "execution_count": 28
        }
      ],
      "source": [
        "# 9. lemmatizer\n",
        "\n",
        "%time\n",
        "lemmatizer = WordNetLemmatizer()\n",
        "def lemmatize_words(text):\n",
        "    return \" \".join([lemmatizer.lemmatize(word) for word in text.split()])\n",
        "\n",
        "data[\"reviews\"] = data[\"reviews\"].apply(lambda text: lemmatize_words(text))\n",
        "data.head()"
      ]
    },
    {
      "cell_type": "markdown",
      "id": "196f83ed",
      "metadata": {
        "papermill": {
          "duration": 0.024116,
          "end_time": "2022-06-15T01:49:27.972975",
          "exception": false,
          "start_time": "2022-06-15T01:49:27.948859",
          "status": "completed"
        },
        "tags": [],
        "id": "196f83ed"
      },
      "source": [
        "### Text to Words\n",
        "\n",
        "Now, we have pre-processed the file, let's start the model buidling.\n",
        "\n",
        "But before model building, we need to convert the text to numbers. So, let's do this by two methods `BOW` & `TF-IDF`~\n",
        "\n",
        "\n",
        "#### 1. Bag of Words\n",
        "If you have any doubt check our [**notebook**](https://github.com/RAravindDS/Learny/blob/main/NLP/BagofWords.ipynb)\n",
        "\n",
        "But before this, let's split the data!"
      ]
    },
    {
      "cell_type": "code",
      "execution_count": null,
      "id": "d51a40de",
      "metadata": {
        "execution": {
          "iopub.execute_input": "2022-06-15T01:49:28.023058Z",
          "iopub.status.busy": "2022-06-15T01:49:28.022620Z",
          "iopub.status.idle": "2022-06-15T01:49:28.030834Z",
          "shell.execute_reply": "2022-06-15T01:49:28.029829Z"
        },
        "papermill": {
          "duration": 0.036569,
          "end_time": "2022-06-15T01:49:28.033044",
          "exception": false,
          "start_time": "2022-06-15T01:49:27.996475",
          "status": "completed"
        },
        "tags": [],
        "id": "d51a40de"
      },
      "outputs": [],
      "source": [
        "# data split\n",
        "from sklearn.model_selection import train_test_split\n",
        "xtrain, xtest, ytrain, ytest = train_test_split(data['reviews'], data['sentiment'], test_size = 0.3)"
      ]
    },
    {
      "cell_type": "code",
      "execution_count": null,
      "id": "33294e0e",
      "metadata": {
        "execution": {
          "iopub.execute_input": "2022-06-15T01:49:28.083567Z",
          "iopub.status.busy": "2022-06-15T01:49:28.083120Z",
          "iopub.status.idle": "2022-06-15T01:49:29.636947Z",
          "shell.execute_reply": "2022-06-15T01:49:29.635953Z"
        },
        "papermill": {
          "duration": 1.58344,
          "end_time": "2022-06-15T01:49:29.639477",
          "exception": false,
          "start_time": "2022-06-15T01:49:28.056037",
          "status": "completed"
        },
        "tags": [],
        "id": "33294e0e"
      },
      "outputs": [],
      "source": [
        "# Convert text to numbers using (BOW)!\n",
        "from sklearn.feature_extraction.text import CountVectorizer\n",
        "\n",
        "vectorizer = CountVectorizer()\n",
        "\n",
        "# let's convert\n",
        "xtrain_bow = vectorizer.fit_transform(xtrain).toarray()\n",
        "xtest_bow = vectorizer.transform(xtest).toarray()\n"
      ]
    },
    {
      "cell_type": "markdown",
      "id": "04b1cda9",
      "metadata": {
        "papermill": {
          "duration": 0.022614,
          "end_time": "2022-06-15T01:49:29.684583",
          "exception": false,
          "start_time": "2022-06-15T01:49:29.661969",
          "status": "completed"
        },
        "tags": [],
        "id": "04b1cda9"
      },
      "source": [
        "#### 2. TF-IDF\n",
        "\n",
        "If you have any doubt you can check our [**notebook**](https://github.com/RAravindDS/Learny/blob/main/NLP/TFIDF/TFIDF.ipynb)"
      ]
    },
    {
      "cell_type": "code",
      "execution_count": null,
      "id": "8a7e489b",
      "metadata": {
        "execution": {
          "iopub.execute_input": "2022-06-15T01:49:29.731456Z",
          "iopub.status.busy": "2022-06-15T01:49:29.730343Z",
          "iopub.status.idle": "2022-06-15T01:49:32.168888Z",
          "shell.execute_reply": "2022-06-15T01:49:32.167915Z"
        },
        "papermill": {
          "duration": 2.464483,
          "end_time": "2022-06-15T01:49:32.171414",
          "exception": false,
          "start_time": "2022-06-15T01:49:29.706931",
          "status": "completed"
        },
        "tags": [],
        "id": "8a7e489b"
      },
      "outputs": [],
      "source": [
        "# Convert text to numbers using (TF-IDF)\n",
        "from sklearn.feature_extraction.text import TfidfVectorizer\n",
        "\n",
        "tf_vectorizer = TfidfVectorizer()\n",
        "\n",
        "# let's convert\n",
        "xtrain_tf = tf_vectorizer.fit_transform(xtrain).toarray()\n",
        "xtest_tf = tf_vectorizer.transform(xtest).toarray()"
      ]
    },
    {
      "cell_type": "markdown",
      "id": "519d6b3e",
      "metadata": {
        "papermill": {
          "duration": 0.022653,
          "end_time": "2022-06-15T01:49:32.219306",
          "exception": false,
          "start_time": "2022-06-15T01:49:32.196653",
          "status": "completed"
        },
        "tags": [],
        "id": "519d6b3e"
      },
      "source": [
        "### Model Building\n",
        "\n",
        "Here, we are going to use the `Gaussina NB` model.\n",
        "\n",
        "First we will see the results for `BOW`"
      ]
    },
    {
      "cell_type": "code",
      "execution_count": null,
      "id": "5c42203a",
      "metadata": {
        "execution": {
          "iopub.execute_input": "2022-06-15T01:49:32.265950Z",
          "iopub.status.busy": "2022-06-15T01:49:32.265544Z",
          "iopub.status.idle": "2022-06-15T01:49:45.070430Z",
          "shell.execute_reply": "2022-06-15T01:49:45.069438Z"
        },
        "papermill": {
          "duration": 12.830951,
          "end_time": "2022-06-15T01:49:45.072701",
          "exception": false,
          "start_time": "2022-06-15T01:49:32.241750",
          "status": "completed"
        },
        "tags": [],
        "id": "5c42203a"
      },
      "outputs": [],
      "source": [
        "from sklearn.naive_bayes import GaussianNB\n",
        "\n",
        "# USING BOW\n",
        "clf_bow = GaussianNB().fit(xtrain_bow, ytrain)  # fitting\n",
        "prediction_bow = clf_bow.predict(xtest_bow)  # predictions\n",
        "\n",
        "# USINGN TFIDF\n",
        "clf_tf = GaussianNB().fit(xtrain_tf, ytrain)\n",
        "prediction_tf = clf_tf.predict(xtest_tf)"
      ]
    },
    {
      "cell_type": "markdown",
      "source": [
        "# ***Building KNN  model***"
      ],
      "metadata": {
        "id": "fX6o5fjd30-C"
      },
      "id": "fX6o5fjd30-C"
    },
    {
      "cell_type": "code",
      "source": [
        "from sklearn.neighbors import KNeighborsClassifier"
      ],
      "metadata": {
        "id": "aYbUj4049-Im"
      },
      "id": "aYbUj4049-Im",
      "execution_count": null,
      "outputs": []
    },
    {
      "cell_type": "code",
      "source": [
        "knn = KNeighborsClassifier(n_neighbors=15)\n",
        "knn.fit(xtrain_bow,ytrain)\n",
        "pred_train = knn.predict(xtrain_bow)\n",
        "pred_test = knn.predict(xtest_bow)"
      ],
      "metadata": {
        "id": "hKE_qrk23__s"
      },
      "id": "hKE_qrk23__s",
      "execution_count": null,
      "outputs": []
    },
    {
      "cell_type": "markdown",
      "source": [
        "# ***Building Logistic regression model***"
      ],
      "metadata": {
        "id": "QskVPqFX_TaQ"
      },
      "id": "QskVPqFX_TaQ"
    },
    {
      "cell_type": "code",
      "source": [
        "from sklearn.linear_model import LogisticRegression\n"
      ],
      "metadata": {
        "id": "0fobk6Qm4JYc"
      },
      "id": "0fobk6Qm4JYc",
      "execution_count": null,
      "outputs": []
    },
    {
      "cell_type": "code",
      "execution_count": null,
      "id": "816c6341",
      "metadata": {
        "execution": {
          "iopub.execute_input": "2022-06-15T01:49:45.122528Z",
          "iopub.status.busy": "2022-06-15T01:49:45.122090Z",
          "iopub.status.idle": "2022-06-15T01:49:45.142274Z",
          "shell.execute_reply": "2022-06-15T01:49:45.141324Z"
        },
        "papermill": {
          "duration": 0.048397,
          "end_time": "2022-06-15T01:49:45.144372",
          "exception": false,
          "start_time": "2022-06-15T01:49:45.095975",
          "status": "completed"
        },
        "tags": [],
        "id": "816c6341",
        "outputId": "280409e8-78b0-4563-f231-fa9599b35054",
        "colab": {
          "base_uri": "https://localhost:8080/"
        }
      },
      "outputs": [
        {
          "output_type": "stream",
          "name": "stdout",
          "text": [
            "Confusion_matrix \n",
            " [[945]]\n",
            "\n",
            "Accuracy: 1.0\n",
            "\n",
            "classification_report\n",
            "\n",
            "              precision    recall  f1-score   support\n",
            "\n",
            "           1       1.00      1.00      1.00       945\n",
            "\n",
            "    accuracy                           1.00       945\n",
            "   macro avg       1.00      1.00      1.00       945\n",
            "weighted avg       1.00      1.00      1.00       945\n",
            "\n"
          ]
        }
      ],
      "source": [
        "# let's check our model!\n",
        "from sklearn.metrics import classification_report, confusion_matrix, accuracy_score\n",
        "\n",
        "def metrics(prediction, actual):\n",
        "    print('Confusion_matrix \\n', confusion_matrix(actual, prediction))\n",
        "    print('\\nAccuracy:', accuracy_score(actual, prediction))\n",
        "    print('\\nclassification_report\\n')\n",
        "    print(classification_report(actual, prediction))\n",
        "\n",
        "\n",
        "metrics(prediction_bow, ytest)"
      ]
    },
    {
      "cell_type": "code",
      "execution_count": null,
      "id": "1ce74482",
      "metadata": {
        "execution": {
          "iopub.execute_input": "2022-06-15T01:49:45.191530Z",
          "iopub.status.busy": "2022-06-15T01:49:45.190867Z",
          "iopub.status.idle": "2022-06-15T01:49:45.209396Z",
          "shell.execute_reply": "2022-06-15T01:49:45.208329Z"
        },
        "papermill": {
          "duration": 0.044806,
          "end_time": "2022-06-15T01:49:45.211799",
          "exception": false,
          "start_time": "2022-06-15T01:49:45.166993",
          "status": "completed"
        },
        "tags": [],
        "id": "1ce74482",
        "outputId": "efa886be-acb4-436b-b84c-86d74cefa999",
        "colab": {
          "base_uri": "https://localhost:8080/"
        }
      },
      "outputs": [
        {
          "output_type": "stream",
          "name": "stdout",
          "text": [
            "Confusion_matrix \n",
            " [[945]]\n",
            "\n",
            "Accuracy: 1.0\n",
            "\n",
            "classification_report\n",
            "\n",
            "              precision    recall  f1-score   support\n",
            "\n",
            "           1       1.00      1.00      1.00       945\n",
            "\n",
            "    accuracy                           1.00       945\n",
            "   macro avg       1.00      1.00      1.00       945\n",
            "weighted avg       1.00      1.00      1.00       945\n",
            "\n"
          ]
        }
      ],
      "source": [
        "metrics(prediction_tf, ytest)"
      ]
    },
    {
      "cell_type": "code",
      "source": [],
      "metadata": {
        "id": "h24us_QLCAU8"
      },
      "id": "h24us_QLCAU8",
      "execution_count": null,
      "outputs": []
    }
  ],
  "metadata": {
    "kernelspec": {
      "display_name": "Python 3",
      "language": "python",
      "name": "python3"
    },
    "language_info": {
      "codemirror_mode": {
        "name": "ipython",
        "version": 3
      },
      "file_extension": ".py",
      "mimetype": "text/x-python",
      "name": "python",
      "nbconvert_exporter": "python",
      "pygments_lexer": "ipython3",
      "version": "3.7.12"
    },
    "papermill": {
      "default_parameters": {},
      "duration": 92.706686,
      "end_time": "2022-06-15T01:49:47.970432",
      "environment_variables": {},
      "exception": null,
      "input_path": "__notebook__.ipynb",
      "output_path": "__notebook__.ipynb",
      "parameters": {},
      "start_time": "2022-06-15T01:48:15.263746",
      "version": "2.3.4"
    },
    "colab": {
      "provenance": [],
      "include_colab_link": true
    }
  },
  "nbformat": 4,
  "nbformat_minor": 5
}